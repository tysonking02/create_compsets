{
 "cells": [
  {
   "cell_type": "code",
   "execution_count": null,
   "id": "add3b316",
   "metadata": {},
   "outputs": [],
   "source": [
    "import pandas as pd\n",
    "import requests"
   ]
  },
  {
   "cell_type": "code",
   "execution_count": null,
   "id": "98ff53b3",
   "metadata": {},
   "outputs": [],
   "source": [
    "api_key = \"f3898958-b76a-4a47-816f-0294f0c5103d\"\n",
    "\n",
    "BASE_URL = \"https://api.hellodata.ai\"\n",
    "\n",
    "HEADERS = {\n",
    "    \"x-api-key\": api_key\n",
    "}"
   ]
  },
  {
   "cell_type": "code",
   "execution_count": null,
   "id": "913a1d15",
   "metadata": {},
   "outputs": [],
   "source": [
    "dimasset = pd.read_csv('data/DimAsset.csv')\n",
    "dimasset = dimasset[dimasset['YearBuiltEnd'] < 2025]\n",
    "assetdetailactive = pd.read_csv('data/vw_AssetDetailActive.csv', usecols=['AssetCode', 'ParentAssetName'])\n",
    "\n",
    "dimasset = dimasset.merge(assetdetailactive, on='AssetCode')"
   ]
  },
  {
   "cell_type": "code",
   "execution_count": null,
   "id": "60a37fa3",
   "metadata": {},
   "outputs": [],
   "source": [
    "display(dimasset[['AssetName', 'Latitude', 'Longitude']])"
   ]
  },
  {
   "cell_type": "code",
   "execution_count": null,
   "id": "74f22b32",
   "metadata": {},
   "outputs": [],
   "source": [
    "def fetch_property_data(property, lat=None, lon=None, zip_code=None):\n",
    "    \"\"\"Function to fetch property data using property name and zip code.\"\"\"\n",
    "    querystring = {\"q\": property}\n",
    "\n",
    "    # Only add lat and lon if they are provided\n",
    "    if lat is not None and lon is not None:\n",
    "        querystring[\"lat\"] = lat\n",
    "        querystring[\"lon\"] = lon\n",
    "        querystring[\"max_distance\"] = 0.2\n",
    "\n",
    "    if zip_code is not None:\n",
    "        querystring['zip_code'] = zip_code\n",
    "\n",
    "    url = f\"{BASE_URL}/property/search\"\n",
    "    response = requests.get(url, headers=HEADERS, params=querystring)\n",
    "    try:\n",
    "        data = response.json()\n",
    "        return data if data and len(data) > 0 else None\n",
    "    except ValueError as e:\n",
    "        raise ValueError(f\"Error parsing JSON response from property search: {e}\")\n",
    "\n",
    "def fetch_property_details(property_id):\n",
    "    \"\"\"Function to fetch details for a specific property.\"\"\"\n",
    "    url = f\"{BASE_URL}/property/{property_id}\"\n",
    "    response = requests.get(url, headers=HEADERS)\n",
    "    try:\n",
    "        return response.json()\n",
    "    except ValueError as e:\n",
    "        raise ValueError(f\"Error parsing JSON response from property details: {e}\")\n",
    "    "
   ]
  },
  {
   "cell_type": "code",
   "execution_count": null,
   "id": "a91b5ed0",
   "metadata": {},
   "outputs": [],
   "source": [
    "def fetch_comparables(property_details, params):\n",
    "    \"\"\"Function to fetch HelloData comparables for a given property using a POST request.\"\"\"\n",
    "    url = f\"{BASE_URL}/property/comparables\"\n",
    "    payload = {\"subject\": property_details}\n",
    "\n",
    "    # Filter only the allowed parameters to be included in query string\n",
    "    allowed_params = {\n",
    "        \"topN\", \"renovations\", \"maxDistance\", \"minDistance\",\n",
    "        \"minNumberUnits\", \"maxNumberUnits\", \n",
    "        \"minYearBuilt\", \"maxYearBuilt\", \n",
    "        \"minNumberStories\", \"maxNumberStories\"\n",
    "    }\n",
    "\n",
    "    # Construct filtered query parameters\n",
    "    query_params = {k: v for k, v in params.items() if k in allowed_params}\n",
    "\n",
    "    response = requests.post(url, headers=HEADERS, params=query_params, json=payload)\n",
    "\n",
    "    if response.status_code == 200:\n",
    "        return response.json()\n",
    "    return None"
   ]
  },
  {
   "cell_type": "code",
   "execution_count": null,
   "id": "7a38341b",
   "metadata": {},
   "outputs": [],
   "source": [
    "def aggregate_comps(comps_json, property_details):\n",
    "    # Extract subject property info\n",
    "    subject_name = property_details.get('building_name')\n",
    "    subject_address = f\"{property_details.get('street_address', '')}, {property_details.get('city', '')}, {property_details.get('state', '')}\"\n",
    "    subject_year_built = property_details.get('year_built')\n",
    "    subject_number_units = property_details.get('number_units')\n",
    "    subject_number_stories = property_details.get('number_stories')\n",
    "\n",
    "    # Initialize DataFrame with subject property\n",
    "    comps_df = pd.DataFrame([{\n",
    "        'Property Name': subject_name,\n",
    "        'Address': subject_address,\n",
    "        'Year Built': subject_year_built,\n",
    "        'Number of Units': subject_number_units,\n",
    "        'Number of Stories': subject_number_stories,\n",
    "        'Reference': True\n",
    "    }])\n",
    "\n",
    "    # Append comps\n",
    "    for i in range(len(comps_json)):\n",
    "        cur = comps_json[i]\n",
    "\n",
    "        property_name = cur.get('building_name')\n",
    "        address = f\"{cur.get('street_address', '')}, {cur.get('city', '')}, {cur.get('state', '')}\"\n",
    "        year_built = cur.get('year_built')\n",
    "        number_units = cur.get('number_units')\n",
    "        number_stories = cur.get('number_stories')\n",
    "\n",
    "        comps_df = pd.concat([comps_df, pd.DataFrame([{\n",
    "            'Property Name': property_name,\n",
    "            'Address': address,\n",
    "            'Year Built': year_built,\n",
    "            'Number of Units': number_units,\n",
    "            'Number of Stories': number_stories,\n",
    "            'Reference': False\n",
    "        }])], ignore_index=True)\n",
    "\n",
    "    return comps_df\n"
   ]
  },
  {
   "cell_type": "code",
   "execution_count": null,
   "id": "d7b629ae",
   "metadata": {},
   "outputs": [],
   "source": [
    "property_name = \"Brooksedge\"\n",
    "lat = 39.924153\n",
    "lon = -82.804660"
   ]
  },
  {
   "cell_type": "code",
   "execution_count": null,
   "id": "da82d788",
   "metadata": {},
   "outputs": [],
   "source": [
    "property_data = fetch_property_data(property_name, lat = lat, lon = lon)\n",
    "property_id = property_data[0]['id']\n",
    "\n",
    "property_details = fetch_property_details(property_id)\n",
    "\n",
    "comps = fetch_comparables(property_details, params=dict())['comparables']"
   ]
  },
  {
   "cell_type": "code",
   "execution_count": null,
   "id": "a71f5bce",
   "metadata": {},
   "outputs": [],
   "source": []
  },
  {
   "cell_type": "code",
   "execution_count": null,
   "id": "313e9f0f",
   "metadata": {},
   "outputs": [],
   "source": [
    "aggregate_comps(comps, property_details)"
   ]
  }
 ],
 "metadata": {
  "kernelspec": {
   "display_name": "create_compsets",
   "language": "python",
   "name": "python3"
  },
  "language_info": {
   "codemirror_mode": {
    "name": "ipython",
    "version": 3
   },
   "file_extension": ".py",
   "mimetype": "text/x-python",
   "name": "python",
   "nbconvert_exporter": "python",
   "pygments_lexer": "ipython3",
   "version": "3.13.3"
  }
 },
 "nbformat": 4,
 "nbformat_minor": 5
}
